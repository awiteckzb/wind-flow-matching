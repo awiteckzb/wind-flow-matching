{
 "cells": [
  {
   "cell_type": "code",
   "execution_count": 1,
   "metadata": {},
   "outputs": [],
   "source": [
    "from training_data_gen import create_generator_from_grib"
   ]
  },
  {
   "cell_type": "code",
   "execution_count": 2,
   "metadata": {},
   "outputs": [
    {
     "name": "stderr",
     "output_type": "stream",
     "text": [
      "Ignoring index file '../../data/gfs_4_20100808_1200_000.grb2.47d85.idx' incompatible with GRIB file\n"
     ]
    },
    {
     "name": "stdout",
     "output_type": "stream",
     "text": [
      "Created generator for pressure level 1000 hPa\n",
      "Grid resolution: 361x720\n",
      "Latitude range: [-90.0, 90.0]\n",
      "Longitude range: [0.0, 359.5]\n"
     ]
    }
   ],
   "source": [
    "data_gen, ds = create_generator_from_grib(\n",
    "    grib_path='../../data/gfs_4_20100808_1200_000.grb2',\n",
    "    pressure_level=1000,\n",
    "    dt=1,\n",
    "    n_steps=1000,\n",
    "    backend_kwargs=None\n",
    ")"
   ]
  },
  {
   "cell_type": "code",
   "execution_count": 3,
   "metadata": {},
   "outputs": [
    {
     "data": {
      "text/plain": [
       "(array([[0.3985822 , 0.47759217],\n",
       "        [0.5077271 , 0.74768245],\n",
       "        [0.7481515 , 0.73532426],\n",
       "        [0.66420364, 0.7330069 ]], dtype=float32),\n",
       " array([[0.47462866, 0.3832375 ],\n",
       "        [0.56012034, 0.7812172 ],\n",
       "        [0.7520583 , 0.739712  ],\n",
       "        [0.6830831 , 0.78437626]], dtype=float32))"
      ]
     },
     "execution_count": 3,
     "metadata": {},
     "output_type": "execute_result"
    }
   ],
   "source": [
    "data_gen.generate_batch(batch_size = 4, full=False)"
   ]
  },
  {
   "cell_type": "code",
   "execution_count": null,
   "metadata": {},
   "outputs": [],
   "source": []
  }
 ],
 "metadata": {
  "kernelspec": {
   "display_name": "wind-fm",
   "language": "python",
   "name": "python3"
  },
  "language_info": {
   "codemirror_mode": {
    "name": "ipython",
    "version": 3
   },
   "file_extension": ".py",
   "mimetype": "text/x-python",
   "name": "python",
   "nbconvert_exporter": "python",
   "pygments_lexer": "ipython3",
   "version": "3.10.13"
  }
 },
 "nbformat": 4,
 "nbformat_minor": 2
}
